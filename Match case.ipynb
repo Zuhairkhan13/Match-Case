{
 "cells": [
  {
   "cell_type": "markdown",
   "id": "63538c5e",
   "metadata": {},
   "source": [
    "# Match Case"
   ]
  },
  {
   "cell_type": "code",
   "execution_count": 10,
   "id": "a6bf3308",
   "metadata": {},
   "outputs": [
    {
     "name": "stdout",
     "output_type": "stream",
     "text": [
      "Enter a number5\n",
      "5 x is not equal to 90\n"
     ]
    }
   ],
   "source": [
    "x = int(input(\"Enter a number\"))\n",
    "\n",
    "match x:\n",
    "    case 0:\n",
    "        print(\"x is 0\")\n",
    "    case 4:\n",
    "        print(\"x is 4\")\n",
    "    case _ if x !=90:\n",
    "        print(x, \"x is not equal to 90\")\n",
    "    case _ if x !=80:\n",
    "        print(x, \"x is not equal to 80\")\n",
    "    case _ :\n",
    "        print(x)"
   ]
  },
  {
   "cell_type": "code",
   "execution_count": 28,
   "id": "0c66d281",
   "metadata": {},
   "outputs": [
    {
     "name": "stdout",
     "output_type": "stream",
     "text": [
      "Enter a name: areeb\n",
      "areeb\n"
     ]
    }
   ],
   "source": [
    "name = input(\"Enter a name: \")\n",
    "match name:\n",
    "    case \"Zuhair\":\n",
    "        print(\"Hello\",name)\n",
    "    case  \"Ali\":\n",
    "        print(\"Getout\",name)\n",
    "    case _ :\n",
    "        print(name)"
   ]
  },
  {
   "cell_type": "code",
   "execution_count": null,
   "id": "ae1d3c5b",
   "metadata": {},
   "outputs": [],
   "source": []
  }
 ],
 "metadata": {
  "kernelspec": {
   "display_name": "Python 3 (ipykernel)",
   "language": "python",
   "name": "python3"
  },
  "language_info": {
   "codemirror_mode": {
    "name": "ipython",
    "version": 3
   },
   "file_extension": ".py",
   "mimetype": "text/x-python",
   "name": "python",
   "nbconvert_exporter": "python",
   "pygments_lexer": "ipython3",
   "version": "3.11.5"
  }
 },
 "nbformat": 4,
 "nbformat_minor": 5
}
